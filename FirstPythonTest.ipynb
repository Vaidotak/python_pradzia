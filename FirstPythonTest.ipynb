{
 "cells": [
  {
   "cell_type": "code",
   "execution_count": 1,
   "id": "8a88e270",
   "metadata": {},
   "outputs": [
    {
     "name": "stdout",
     "output_type": "stream",
     "text": [
      "a lygu b\n"
     ]
    }
   ],
   "source": [
    "a = int(input(\"Įveskite skaičių a: \"))\n",
    "b = int(input(\"Įveskite skaičių b: \"))\n",
    "if a < b:\n",
    "    print(\"a mažesnis už b\")\n",
    "elif a == b:\n",
    "    print(\"a lygu b\")\n",
    "else:\n",
    "    print(\"a didesnis už b\")"
   ]
  },
  {
   "cell_type": "code",
   "execution_count": 2,
   "id": "ddf16379",
   "metadata": {},
   "outputs": [
    {
     "name": "stdout",
     "output_type": "stream",
     "text": [
      "f\n",
      "P\n",
      "Zen\n",
      "Python\n",
      "nohtyP fo neZ\n",
      "['Zen', 'of', 'Python']\n",
      "Zen of Programming\n"
     ]
    }
   ],
   "source": [
    "eilute = \"Zen of Python\"\n",
    "print(eilute[5])\n",
    "print(eilute[7])\n",
    "print(eilute[:3])\n",
    "print(eilute[-6:])\n",
    "print(eilute[::-1])\n",
    "print(eilute.split())\n",
    "print (eilute.replace(\"Python\", \"Programming\"))"
   ]
  },
  {
   "cell_type": "code",
   "execution_count": 3,
   "id": "845df695",
   "metadata": {},
   "outputs": [],
   "source": [
    "# Programoje išbandyti daugiau string funkcijų:\n",
    "# upper()\n",
    "# casefold()\n",
    "# capitalize()\n",
    "# count()\n",
    "# find()\n",
    "# ir t.t.\n",
    "# Visas jas galite rasti čia: https://www.w3schools.com/python/python_ref_string.asp\n"
   ]
  },
  {
   "cell_type": "code",
   "execution_count": 4,
   "id": "d3cbfc21",
   "metadata": {},
   "outputs": [
    {
     "name": "stdout",
     "output_type": "stream",
     "text": [
      "ZEN OF PYTHON\n",
      "zen of python\n",
      "Zen of python\n",
      "2\n",
      "4\n"
     ]
    }
   ],
   "source": [
    "eilute = \"Zen of Python\"\n",
    "print(eilute.upper())\n",
    "print(eilute.casefold())\n",
    "print(eilute.capitalize())\n",
    "print(eilute.count(\"o\"))\n",
    "print(eilute.find(\"o\"))"
   ]
  },
  {
   "cell_type": "code",
   "execution_count": 5,
   "id": "aa6103c0",
   "metadata": {},
   "outputs": [
    {
     "name": "stdout",
     "output_type": "stream",
     "text": [
      "Rezultatas:  -1\n"
     ]
    }
   ],
   "source": [
    "a = int(input(\"Įveskite pirmą skaičių: \"))\n",
    "b = int(input(\"Įveskite antrą skaičių: \"))\n",
    "operation = input(\"Kokį matematinį veiksmą norite atlikti (+, -, *, /): \")\n",
    "\n",
    "if operation == \"+\":\n",
    "    result = a + b\n",
    "    print(\"Rezultatas: \", result)\n",
    "elif operation == \"-\":\n",
    "    result = a - b\n",
    "    print(\"Rezultatas: \", result)\n",
    "elif operation == \"*\":\n",
    "    result = a * b3\n",
    "    print(\"Rezultatas: \", result)\n",
    "elif operation == \"/\":\n",
    "    result = a / b\n",
    "    print(\"Rezultatas: \", result)\n",
    "else:\n",
    "    print(\"Neteisingai pasirinktas veiksmas.\")"
   ]
  },
  {
   "cell_type": "code",
   "execution_count": 6,
   "id": "b7f72112",
   "metadata": {},
   "outputs": [],
   "source": [
    "# Parašyti programą, kuri:\n",
    "# •Leistų vartotojui įvesti skaičių.\n",
    "# •Jei įvestas skaičius yra teigiamas, paprašyti įvesti dar vieną skaičių\n",
    "# •Jei įvestas skaičius neigiamas, nutraukti programą ir atspausdinti visų įvestų teigiamų skaičių sumą\n",
    "# Patarimas: Naudoti ciklą while, sąlygą if, break"
   ]
  },
  {
   "cell_type": "code",
   "execution_count": 8,
   "id": "056c32d5",
   "metadata": {},
   "outputs": [
    {
     "name": "stdout",
     "output_type": "stream",
     "text": [
      "Teigiamų skaičių suma:  8.0\n"
     ]
    }
   ],
   "source": [
    "teigiami = []\n",
    "while True:\n",
    "    number = float(input(\"Įveskite skaičių: \"))\n",
    "    if number >= 0:\n",
    "        teigiami.append(number)\n",
    "    else:\n",
    "        break\n",
    "print(\"Teigiamų skaičių suma: \", sum(teigiami))"
   ]
  }
 ],
 "metadata": {
  "kernelspec": {
   "display_name": "Python 3",
   "language": "python",
   "name": "python3"
  },
  "language_info": {
   "codemirror_mode": {
    "name": "ipython",
    "version": 3
   },
   "file_extension": ".py",
   "mimetype": "text/x-python",
   "name": "python",
   "nbconvert_exporter": "python",
   "pygments_lexer": "ipython3",
   "version": "3.10.2"
  },
  "vscode": {
   "interpreter": {
    "hash": "369f2c481f4da34e4445cda3fffd2e751bd1c4d706f27375911949ba6bb62e1c"
   }
  }
 },
 "nbformat": 4,
 "nbformat_minor": 5
}
