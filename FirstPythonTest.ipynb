{
 "cells": [
  {
   "cell_type": "code",
   "execution_count": 1,
   "id": "8a88e270",
   "metadata": {
    "pycharm": {
     "name": "#%%\n"
    }
   },
   "outputs": [
    {
     "name": "stdout",
     "output_type": "stream",
     "text": [
      "a lygu b\n"
     ]
    }
   ],
   "source": [
    "a = int(input(\"Įveskite skaičių a: \"))\n",
    "b = int(input(\"Įveskite skaičių b: \"))\n",
    "if a < b:\n",
    "    print(\"a mažesnis už b\")\n",
    "elif a == b:\n",
    "    print(\"a lygu b\")\n",
    "else:\n",
    "    print(\"a didesnis už b\")"
   ]
  },
  {
   "cell_type": "code",
   "execution_count": 2,
   "id": "ddf16379",
   "metadata": {
    "pycharm": {
     "name": "#%%\n"
    }
   },
   "outputs": [
    {
     "name": "stdout",
     "output_type": "stream",
     "text": [
      "f\n",
      "P\n",
      "Zen\n",
      "Python\n",
      "nohtyP fo neZ\n",
      "['Zen', 'of', 'Python']\n",
      "Zen of Programming\n"
     ]
    }
   ],
   "source": [
    "eilute = \"Zen of Python\"\n",
    "print(eilute[5])\n",
    "print(eilute[7])\n",
    "print(eilute[:3])\n",
    "print(eilute[-6:])\n",
    "print(eilute[::-1])\n",
    "print(eilute.split())\n",
    "print (eilute.replace(\"Python\", \"Programming\"))"
   ]
  },
  {
   "cell_type": "code",
   "execution_count": 3,
   "id": "845df695",
   "metadata": {
    "pycharm": {
     "name": "#%%\n"
    }
   },
   "outputs": [],
   "source": [
    "# Programoje išbandyti daugiau string funkcijų:\n",
    "# upper()\n",
    "# casefold()\n",
    "# capitalize()\n",
    "# count()\n",
    "# find()\n",
    "# ir t.t.\n",
    "# Visas jas galite rasti čia: https://www.w3schools.com/python/python_ref_string.asp\n"
   ]
  },
  {
   "cell_type": "code",
   "execution_count": 4,
   "id": "d3cbfc21",
   "metadata": {
    "pycharm": {
     "name": "#%%\n"
    }
   },
   "outputs": [
    {
     "name": "stdout",
     "output_type": "stream",
     "text": [
      "ZEN OF PYTHON\n",
      "zen of python\n",
      "Zen of python\n",
      "2\n",
      "4\n"
     ]
    }
   ],
   "source": [
    "eilute = \"Zen of Python\"\n",
    "print(eilute.upper())\n",
    "print(eilute.casefold())\n",
    "print(eilute.capitalize())\n",
    "print(eilute.count(\"o\"))\n",
    "print(eilute.find(\"o\"))"
   ]
  },
  {
   "cell_type": "code",
   "execution_count": 1,
   "id": "aa6103c0",
   "metadata": {
    "pycharm": {
     "name": "#%%\n"
    }
   },
   "outputs": [
    {
     "name": "stdout",
     "output_type": "stream",
     "text": [
      "Neteisingai pasirinktas veiksmas.\n"
     ]
    }
   ],
   "source": [
    "a = int(input(\"Įveskite pirmą skaičių: \"))\n",
    "b = int(input(\"Įveskite antrą skaičių: \"))\n",
    "operation = input(\"Kokį matematinį veiksmą norite atlikti (+, -, *, /): \")\n",
    "\n",
    "if operation == \"+\":\n",
    "    result = a + b\n",
    "    print(\"Rezultatas: \", result)\n",
    "elif operation == \"-\":\n",
    "    result = a - b\n",
    "    print(\"Rezultatas: \", result)\n",
    "elif operation == \"*\":\n",
    "    result = a * b\n",
    "    print(\"Rezultatas: \", result)\n",
    "elif operation == \"/\":\n",
    "    result = a / b\n",
    "    print(\"Rezultatas: \", result)\n",
    "else:\n",
    "    print(\"Neteisingai pasirinktas veiksmas.\")"
   ]
  },
  {
   "cell_type": "code",
   "execution_count": 1,
   "id": "056c32d5",
   "metadata": {
    "pycharm": {
     "name": "#%%\n"
    }
   },
   "outputs": [
    {
     "name": "stdout",
     "output_type": "stream",
     "text": [
      "Teigiamų skaičių suma:  14\n"
     ]
    }
   ],
   "source": [
    "# Parašyti programą, kuri:\n",
    "# •Leistų vartotojui įvesti skaičių.\n",
    "# •Jei įvestas skaičius yra teigiamas, paprašyti įvesti dar vieną skaičių\n",
    "# •Jei įvestas skaičius neigiamas, nutraukti programą ir atspausdinti visų įvestų teigiamų skaičių sumą\n",
    "# Patarimas: Naudoti ciklą while, sąlygą if, break\n",
    "teigiami = []\n",
    "while True:\n",
    "    number = int(input(\"Įveskite skaičių: \"))\n",
    "    if number >= 0:\n",
    "        teigiami.append(number)\n",
    "    else:\n",
    "        break\n",
    "print(\"Teigiamų skaičių suma: \", sum(teigiami))"
   ]
  },
  {
   "cell_type": "code",
   "execution_count": 51,
   "id": "f0f61c06",
   "metadata": {
    "pycharm": {
     "name": "#%%\n"
    }
   },
   "outputs": [
    {
     "name": "stdout",
     "output_type": "stream",
     "text": [
      "Vaidotas Mustang\n",
      "Sąrašas pridėti Jonas: [5, 100, 'Vaidotas', 69, 'Jonas']\n",
      "Sąrašas ištrinti 100: [5, 'Vaidotas', 69, 'Jonas']\n",
      "Sąrašas įterpti nurodant vietą: [5, 1, 'Vaidotas', 69, 'Jonas']\n",
      "Sąrašas pakeisti: [5, 99, 'Vaidotas', 69, 'Jonas']\n"
     ]
    }
   ],
   "source": [
    "# Sukurti norimą sąrašą ir žodyną ir juose:\n",
    "# Atspausdinti vieną norimą įrašą\n",
    "# Pridėti įrašą\n",
    "# Ištrinti įrašą\n",
    "# pakeisti įrašą\n",
    "# Išbandyti kitas sąrašų ir žodynų funkcijas: clear(), index(), insert(), remove...\n",
    "# https://www.w3schools.com/python/python_ref_list.asp \n",
    "# https://www.w3schools.com/python/python_ref_dictionary.asp\n",
    "sarasas = [5,100,\"Vaidotas\",69]\n",
    "zodynas = {\"brand\": \"Ford\",\n",
    "  \"model\": \"Mustang\",\n",
    "  \"year\": 1964}\n",
    "print(sarasas[2], zodynas[\"model\"])\n",
    "sarasas.append(\"Jonas\")\n",
    "print(\"Sąrašas pridėti Jonas:\", sarasas)\n",
    "sarasas.remove(100)\n",
    "print(\"Sąrašas ištrinti 100:\", sarasas)\n",
    "sarasas.insert(1,1)\n",
    "print(\"Sąrašas įterpti nurodant vietą:\", sarasas)\n",
    "sarasas[1]=99\n",
    "print(\"Sąrašas pakeisti:\", sarasas)"
   ]
  },
  {
   "cell_type": "code",
   "execution_count": 1,
   "id": "63a79877",
   "metadata": {
    "pycharm": {
     "name": "#%%\n"
    }
   },
   "outputs": [
    {
     "name": "stdout",
     "output_type": "stream",
     "text": [
      "Teigiamų skaičių suma:  8\n",
      "Teigiamų skaičių suma:  17\n",
      "Teigiamų skaičių suma:  25\n"
     ]
    }
   ],
   "source": [
    "# Parašyti programą, kuri:\n",
    "# Leistų vartotojui įvesti skaičių.\n",
    "# Jei įvestas skaičius yra teigiamas, paprašyti įvesti dar vieną skaičių\n",
    "# Jei įvestas skaičius neigiamas, nutraukti programą ir atspausdinti visų įvestų teigiamų skaičių sumą\n",
    "# Patarimas: Naudoti ciklą while, sąlygą if, break\n",
    "teigiami_skaiciai = []\n",
    "while True:\n",
    "    skaicius = int(input(\"Įvesk skaičių: \"))\n",
    "    if skaicius >=0:\n",
    "        teigiami_skaiciai.append(skaicius)\n",
    "    else:\n",
    "        break\n",
    "    print(\"Teigiamų skaičių suma: \", sum(teigiami_skaiciai))\n",
    "        \n"
   ]
  },
  {
   "cell_type": "code",
   "execution_count": 3,
   "id": "a0568abc",
   "metadata": {
    "pycharm": {
     "name": "#%%\n"
    }
   },
   "outputs": [
    {
     "name": "stdout",
     "output_type": "stream",
     "text": [
      "1 žodis: tomas, žodžio ilgis: 5\n",
      "2 žodis: vaidotas, žodžio ilgis: 8\n",
      "3 žodis: lina, žodžio ilgis: 4\n",
      "4 žodis: ki, žodžio ilgis: 2\n"
     ]
    }
   ],
   "source": [
    "# Sukurti programą, kuri:\n",
    "# Leistų vartotojui įvesti 5 žodžius\n",
    "# Pridėtų įvestus žodžius į sąrašą\n",
    "# Atspausdintų kiekvieną žodį, jo ilgį ir eilės numerį sąraše (nuo 1)\n",
    "# Sudėtingiau: kad programa leistų įvesti norimą žodžių kiekį\n",
    "# Patarimas: Naudoti sąrašą (list), ciklą for, funkcijas len ir index\n",
    "sarasas = []\n",
    "kiekis = int(input(\"Kiek žodžių įvesti? \"))\n",
    "#penki = 5\n",
    "\n",
    "for x in range(kiekis):\n",
    "    zodis = input(f\"Įvesk {x+1} žodį: \")\n",
    "    sarasas.append(zodis)\n",
    "\n",
    "for x in range(len(sarasas)):\n",
    "    print(f\"{x+1} žodis: {sarasas[x]}, žodžio ilgis: {len(sarasas[x])}\")\n"
   ]
  },
  {
   "cell_type": "code",
   "execution_count": 50,
   "id": "9bd9b7b6",
   "metadata": {
    "pycharm": {
     "name": "#%%\n"
    }
   },
   "outputs": [
    {
     "name": "stdout",
     "output_type": "stream",
     "text": [
      "1 5 6\n",
      "Pralaimėjai\n"
     ]
    }
   ],
   "source": [
    "# Sukurti programą, kuri:\n",
    "# Sugeneruotų tris atsitiktinius skaičius nuo 1 iki 6\n",
    "# Jei vienas iš šių skaičių yra 5, atspausdinti „Pralaimėjai...“\n",
    "# Kitu atveju atspausdinti „Laimėjai!“\n",
    "# Patarimas: Naudoti while ciklą, funkciją random.randint (import random), else, break\n",
    "import random\n",
    "for x in range(3):\n",
    "    num1 = random.randint(1, 6)\n",
    "    num2 = random.randint(1, 6)\n",
    "    num3 = random.randint(1, 6)\n",
    "    print(num1, num2, num3)\n",
    "    if num1 == 5 or num2 == 5 or num3 == 5:\n",
    "        print(\"Pralaimėjai\")\n",
    "    break\n",
    "else:\n",
    "    print(\"Laimėjai\")"
   ]
  },
  {
   "cell_type": "code",
   "execution_count": 5,
   "id": "b812c31d",
   "metadata": {
    "pycharm": {
     "name": "#%%\n"
    }
   },
   "outputs": [
    {
     "name": "stdout",
     "output_type": "stream",
     "text": [
      "Keliamieji metai\n"
     ]
    }
   ],
   "source": [
    "# Sukurti programą, kuri:\n",
    "# Leistų vartotojui įvesti metus\n",
    "# Atspausdintų „Keliamieji metai“, jei taip yra\n",
    "# Atspausdintų „Nekeliamieji metai“, jei taip yra\n",
    "# Keliamieji metai yra kas 4 metus, išskyrus paskutinius amžiaus metus, kurie keliamieji yra tik kas 400 metų\n",
    "metai = int(input(\"Įvesk metus: \"))\n",
    "if (metai % 400 == 0) or (metai % 100 != 0 and metai % 4 == 0):\n",
    "    print(\"Keliamieji metai\")\n",
    "else:   \n",
    "    print(\"Nekeliamieji metai\")"
   ]
  },
  {
   "cell_type": "code",
   "execution_count": 2,
   "id": "a7502523",
   "metadata": {
    "pycharm": {
     "name": "#%%\n"
    }
   },
   "outputs": [
    {
     "name": "stdout",
     "output_type": "stream",
     "text": [
      "1904\n",
      "1908\n",
      "1912\n",
      "1916\n",
      "1920\n",
      "1924\n",
      "1928\n",
      "1932\n",
      "1936\n",
      "1940\n",
      "1944\n",
      "1948\n",
      "1952\n",
      "1956\n",
      "1960\n",
      "1964\n",
      "1968\n",
      "1972\n",
      "1976\n",
      "1980\n",
      "1984\n",
      "1988\n",
      "1992\n",
      "1996\n",
      "2000\n",
      "2004\n",
      "2008\n",
      "2012\n",
      "2016\n",
      "2020\n",
      "2024\n",
      "2028\n",
      "2032\n",
      "2036\n",
      "2040\n",
      "2044\n",
      "2048\n",
      "2052\n",
      "2056\n",
      "2060\n",
      "2064\n",
      "2068\n",
      "2072\n",
      "2076\n",
      "2080\n",
      "2084\n",
      "2088\n",
      "2092\n",
      "2096\n"
     ]
    }
   ],
   "source": [
    "# Perdaryti 5 užduoti taip, kad programa atspausdintų visus keliamuosius metus, nuo 1900 iki 2100 metų.\n",
    "#metai = int(input(\"Įvesk metus: \"))\n",
    "for metai in range(1900, 2100):\n",
    "    if metai % 400 == 0:\n",
    "        print(metai)\n",
    "    elif metai % 100 == 0:\n",
    "        continue\n",
    "    elif metai % 4 == 0:\n",
    "        print(metai)\n",
    "    else:\n",
    "        continue"
   ]
  }
 ],
 "metadata": {
  "kernelspec": {
   "display_name": "Python 3",
   "language": "python",
   "name": "python3"
  },
  "language_info": {
   "codemirror_mode": {
    "name": "ipython",
    "version": 3
   },
   "file_extension": ".py",
   "mimetype": "text/x-python",
   "name": "python",
   "nbconvert_exporter": "python",
   "pygments_lexer": "ipython3",
   "version": "3.10.2"
  },
  "vscode": {
   "interpreter": {
    "hash": "369f2c481f4da34e4445cda3fffd2e751bd1c4d706f27375911949ba6bb62e1c"
   }
  }
 },
 "nbformat": 4,
 "nbformat_minor": 5
}